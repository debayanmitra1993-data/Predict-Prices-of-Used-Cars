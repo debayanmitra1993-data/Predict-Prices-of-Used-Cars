{
 "cells": [
  {
   "cell_type": "markdown",
   "metadata": {},
   "source": [
    "# Table of Contents (Continued from previous notebook..)"
   ]
  },
  {
   "cell_type": "markdown",
   "metadata": {},
   "source": [
    "[10. Load Data, Variables, Functions, Libraries from previous notebook](#section10)<br>\n",
    "[11. Load Competition Test and Competition Train Dataset and Preprocess for Modelling](#section11)<br>\n",
    "[12. Train Model on Entire Competition Train Dataset](#section12)<br>\n",
    "[13. Predict on Competition Test and Output the Submission File](#section13)<br>"
   ]
  },
  {
   "cell_type": "markdown",
   "metadata": {},
   "source": [
    "# <a id = 'section10'>10. Load Data,Variables,Functions,Libraries from previous notebook</a>"
   ]
  },
  {
   "cell_type": "code",
   "execution_count": 1,
   "metadata": {},
   "outputs": [],
   "source": [
    "#general purpose libraries...\n",
    "import os\n",
    "#print(os.getcwd())\n",
    "import warnings\n",
    "warnings.filterwarnings('ignore')\n",
    "import pickle\n",
    "from prettytable import PrettyTable\n",
    "import math\n",
    "import re\n",
    "from tqdm import tqdm,tqdm_notebook\n",
    "import itertools\n",
    "\n",
    "\n",
    "#data analysis libraries...\n",
    "import pandas as pd\n",
    "import numpy as np \n",
    "import scipy\n",
    "from scipy import sparse\n",
    "from scipy.sparse import hstack\n",
    "\n",
    "\n",
    "\n",
    "#visualization libraries...\n",
    "import seaborn as sns\n",
    "%matplotlib inline\n",
    "import matplotlib.pyplot as plt\n",
    "from sklearn.manifold import TSNE\n",
    "\n",
    "\n",
    "#Modelling Libraries....\n",
    "from sklearn.preprocessing import StandardScaler\n",
    "from sklearn.metrics import make_scorer,mean_squared_error,accuracy_score\n",
    "from sklearn.pipeline import Pipeline\n",
    "from sklearn.model_selection import train_test_split,GridSearchCV,StratifiedKFold\n",
    "from sklearn.neighbors import KNeighborsClassifier\n",
    "from sklearn.linear_model import LogisticRegression,SGDClassifier,LinearRegression,SGDRegressor\n",
    "from sklearn.svm import SVC,LinearSVC\n",
    "from sklearn.ensemble import RandomForestClassifier,RandomForestRegressor,GradientBoostingClassifier,GradientBoostingRegressor\n",
    "from sklearn.ensemble import ExtraTreesRegressor\n",
    "from sklearn.tree import DecisionTreeRegressor,DecisionTreeClassifier\n",
    "from xgboost import XGBClassifier,XGBRegressor\n",
    "from sklearn.feature_selection import SelectKBest,f_regression,RFECV,RFE,SelectFromModel\n",
    "from sklearn.decomposition import TruncatedSVD\n",
    "\n",
    "\n",
    "#nlp libraries...\n",
    "from collections import Counter \n",
    "from sklearn.feature_extraction.text import TfidfVectorizer,CountVectorizer\n",
    "from nltk.stem import PorterStemmer\n",
    "from nltk.stem.lancaster import LancasterStemmer\n",
    "from nltk.stem.wordnet import WordNetLemmatizer\n",
    "\n",
    "import nltk\n",
    "from nltk.tokenize import word_tokenize\n",
    "from nltk.corpus import stopwords\n",
    "\n",
    "\n",
    "#Deep Learning Libraries..\n",
    "#from keras.preprocessing.text import Tokenizer                    \n",
    "#from keras.preprocessing.sequence import pad_sequences\n",
    "#from keras.models import Sequential\n",
    "#from keras import layers\n",
    "#from keras.layers import Dense\n",
    "#from keras.layers import LSTM\n",
    "#from keras.layers.embeddings import Embedding\n",
    "#from keras.preprocessing import sequence\n",
    "\n",
    "\n",
    "#Multicollinearity \n",
    "from scipy import stats\n",
    "import scipy.stats as ss\n",
    "import dython\n",
    "from dython.nominal import associations"
   ]
  },
  {
   "cell_type": "markdown",
   "metadata": {},
   "source": [
    "#### Defining RMSE "
   ]
  },
  {
   "cell_type": "code",
   "execution_count": 2,
   "metadata": {},
   "outputs": [],
   "source": [
    "def rmse_score(y_true, y_pred):\n",
    "    return np.sqrt(mean_squared_error((y_true), (y_pred)))\n",
    "\n",
    "rmse_scorer = make_scorer(rmse_score, greater_is_better=False)"
   ]
  },
  {
   "cell_type": "markdown",
   "metadata": {},
   "source": [
    "#### Defining RMSLE "
   ]
  },
  {
   "cell_type": "code",
   "execution_count": 3,
   "metadata": {},
   "outputs": [],
   "source": [
    "def rmsle_score(real, predicted):\n",
    "    sum=0.0\n",
    "    for x in range(len(predicted)):\n",
    "        if predicted[x]<0 or real[x]<0: #check for negative values\n",
    "            continue\n",
    "        p = np.log(predicted[x]+1)\n",
    "        r = np.log(real[x]+1)\n",
    "        sum = sum + (p - r)**2\n",
    "    return (sum/len(predicted))**0.5\n",
    "\n",
    "rmsle_scorer = make_scorer(rmsle_score, greater_is_better=False)"
   ]
  },
  {
   "cell_type": "markdown",
   "metadata": {},
   "source": [
    "# <a id = 'section10'>11. Load Competition Test and Competition Train Dataset and Preprocess for Modelling</a>"
   ]
  },
  {
   "cell_type": "code",
   "execution_count": 5,
   "metadata": {},
   "outputs": [
    {
     "name": "stdout",
     "output_type": "stream",
     "text": [
      "(1234, 12)\n"
     ]
    },
    {
     "data": {
      "text/html": [
       "<div>\n",
       "<style scoped>\n",
       "    .dataframe tbody tr th:only-of-type {\n",
       "        vertical-align: middle;\n",
       "    }\n",
       "\n",
       "    .dataframe tbody tr th {\n",
       "        vertical-align: top;\n",
       "    }\n",
       "\n",
       "    .dataframe thead th {\n",
       "        text-align: right;\n",
       "    }\n",
       "</style>\n",
       "<table border=\"1\" class=\"dataframe\">\n",
       "  <thead>\n",
       "    <tr style=\"text-align: right;\">\n",
       "      <th></th>\n",
       "      <th>Name</th>\n",
       "      <th>Location</th>\n",
       "      <th>Year</th>\n",
       "      <th>Kilometers_Driven</th>\n",
       "      <th>Fuel_Type</th>\n",
       "      <th>Transmission</th>\n",
       "      <th>Owner_Type</th>\n",
       "      <th>Mileage</th>\n",
       "      <th>Engine</th>\n",
       "      <th>Power</th>\n",
       "      <th>Seats</th>\n",
       "      <th>New_Price</th>\n",
       "    </tr>\n",
       "  </thead>\n",
       "  <tbody>\n",
       "    <tr>\n",
       "      <th>0</th>\n",
       "      <td>Maruti Alto K10 LXI CNG</td>\n",
       "      <td>Delhi</td>\n",
       "      <td>2014</td>\n",
       "      <td>40929</td>\n",
       "      <td>CNG</td>\n",
       "      <td>Manual</td>\n",
       "      <td>First</td>\n",
       "      <td>32.26 km/kg</td>\n",
       "      <td>998 CC</td>\n",
       "      <td>58.2 bhp</td>\n",
       "      <td>4.0</td>\n",
       "      <td>NaN</td>\n",
       "    </tr>\n",
       "    <tr>\n",
       "      <th>1</th>\n",
       "      <td>Maruti Alto 800 2016-2019 LXI</td>\n",
       "      <td>Coimbatore</td>\n",
       "      <td>2013</td>\n",
       "      <td>54493</td>\n",
       "      <td>Petrol</td>\n",
       "      <td>Manual</td>\n",
       "      <td>Second</td>\n",
       "      <td>24.7 kmpl</td>\n",
       "      <td>796 CC</td>\n",
       "      <td>47.3 bhp</td>\n",
       "      <td>5.0</td>\n",
       "      <td>NaN</td>\n",
       "    </tr>\n",
       "  </tbody>\n",
       "</table>\n",
       "</div>"
      ],
      "text/plain": [
       "                            Name    Location  Year  Kilometers_Driven  \\\n",
       "0        Maruti Alto K10 LXI CNG       Delhi  2014              40929   \n",
       "1  Maruti Alto 800 2016-2019 LXI  Coimbatore  2013              54493   \n",
       "\n",
       "  Fuel_Type Transmission Owner_Type      Mileage  Engine     Power  Seats  \\\n",
       "0       CNG       Manual      First  32.26 km/kg  998 CC  58.2 bhp    4.0   \n",
       "1    Petrol       Manual     Second    24.7 kmpl  796 CC  47.3 bhp    5.0   \n",
       "\n",
       "  New_Price  \n",
       "0       NaN  \n",
       "1       NaN  "
      ]
     },
     "execution_count": 5,
     "metadata": {},
     "output_type": "execute_result"
    }
   ],
   "source": [
    "competition_test = pd.read_csv('Data_Test_csv.csv',encoding = 'cp1252')\n",
    "print(competition_test.shape)\n",
    "competition_test.head(2)"
   ]
  },
  {
   "cell_type": "code",
   "execution_count": 9,
   "metadata": {},
   "outputs": [
    {
     "name": "stdout",
     "output_type": "stream",
     "text": [
      "Name column missing  0\n",
      "Location column missing  0\n",
      "Year column missing  0\n",
      "Kms column missing  0\n",
      "Fuel column missing  0\n",
      "Transmission column missing  0\n",
      "Owner column missing  0\n",
      "Mileage column missing  0\n",
      "\n",
      "\n",
      "\n",
      "Engine column missing  10\n",
      "Power column missing  10\n",
      "Seats column missing  11\n"
     ]
    }
   ],
   "source": [
    "#Check Missing values...\n",
    "\n",
    "print(\"Name column missing \",competition_test['Name'].isnull().sum())\n",
    "print(\"Location column missing \",competition_test['Location'].isnull().sum())\n",
    "print(\"Year column missing \",competition_test['Year'].isnull().sum())\n",
    "print(\"Kms column missing \",competition_test['Kilometers_Driven'].isnull().sum())\n",
    "print(\"Fuel column missing \",competition_test['Fuel_Type'].isnull().sum())\n",
    "print(\"Transmission column missing \",competition_test['Transmission'].isnull().sum())\n",
    "print(\"Owner column missing \",competition_test['Owner_Type'].isnull().sum())\n",
    "print(\"Mileage column missing \",competition_test['Mileage'].isnull().sum())\n",
    "print('\\n\\n')\n",
    "print(\"Engine column missing \",competition_test['Engine'].isnull().sum())\n",
    "print(\"Power column missing \",competition_test['Power'].isnull().sum())\n",
    "print(\"Seats column missing \",competition_test['Seats'].isnull().sum())"
   ]
  },
  {
   "cell_type": "code",
   "execution_count": 10,
   "metadata": {},
   "outputs": [],
   "source": [
    "#with open('df_enhanced.pickle', 'wb') as f:\n",
    "#    pickle.dump(df, f)\n",
    "\n",
    "\n",
    "#infile = open('df_enhanced.pickle','rb')\n",
    "#competition_train = pickle.load(infile)\n",
    "#infile.close()"
   ]
  },
  {
   "cell_type": "markdown",
   "metadata": {},
   "source": [
    "## 11.1  Preprocessing of features on 'Competition Test' Dataset"
   ]
  },
  {
   "cell_type": "code",
   "execution_count": 12,
   "metadata": {},
   "outputs": [
    {
     "data": {
      "text/html": [
       "<div>\n",
       "<style scoped>\n",
       "    .dataframe tbody tr th:only-of-type {\n",
       "        vertical-align: middle;\n",
       "    }\n",
       "\n",
       "    .dataframe tbody tr th {\n",
       "        vertical-align: top;\n",
       "    }\n",
       "\n",
       "    .dataframe thead th {\n",
       "        text-align: right;\n",
       "    }\n",
       "</style>\n",
       "<table border=\"1\" class=\"dataframe\">\n",
       "  <thead>\n",
       "    <tr style=\"text-align: right;\">\n",
       "      <th></th>\n",
       "      <th>Name</th>\n",
       "      <th>Location</th>\n",
       "      <th>Year</th>\n",
       "      <th>Kilometers_Driven</th>\n",
       "      <th>Fuel_Type</th>\n",
       "      <th>Transmission</th>\n",
       "      <th>Owner_Type</th>\n",
       "      <th>Mileage</th>\n",
       "      <th>Engine</th>\n",
       "      <th>Power</th>\n",
       "      <th>Seats</th>\n",
       "      <th>New_Price</th>\n",
       "    </tr>\n",
       "  </thead>\n",
       "  <tbody>\n",
       "    <tr>\n",
       "      <th>0</th>\n",
       "      <td>Maruti Alto K10 LXI CNG</td>\n",
       "      <td>Delhi</td>\n",
       "      <td>2014</td>\n",
       "      <td>40929</td>\n",
       "      <td>CNG</td>\n",
       "      <td>Manual</td>\n",
       "      <td>First</td>\n",
       "      <td>32.26 km/kg</td>\n",
       "      <td>998 CC</td>\n",
       "      <td>58.2 bhp</td>\n",
       "      <td>4.0</td>\n",
       "      <td>NaN</td>\n",
       "    </tr>\n",
       "    <tr>\n",
       "      <th>1</th>\n",
       "      <td>Maruti Alto 800 2016-2019 LXI</td>\n",
       "      <td>Coimbatore</td>\n",
       "      <td>2013</td>\n",
       "      <td>54493</td>\n",
       "      <td>Petrol</td>\n",
       "      <td>Manual</td>\n",
       "      <td>Second</td>\n",
       "      <td>24.7 kmpl</td>\n",
       "      <td>796 CC</td>\n",
       "      <td>47.3 bhp</td>\n",
       "      <td>5.0</td>\n",
       "      <td>NaN</td>\n",
       "    </tr>\n",
       "  </tbody>\n",
       "</table>\n",
       "</div>"
      ],
      "text/plain": [
       "                            Name    Location  Year  Kilometers_Driven  \\\n",
       "0        Maruti Alto K10 LXI CNG       Delhi  2014              40929   \n",
       "1  Maruti Alto 800 2016-2019 LXI  Coimbatore  2013              54493   \n",
       "\n",
       "  Fuel_Type Transmission Owner_Type      Mileage  Engine     Power  Seats  \\\n",
       "0       CNG       Manual      First  32.26 km/kg  998 CC  58.2 bhp    4.0   \n",
       "1    Petrol       Manual     Second    24.7 kmpl  796 CC  47.3 bhp    5.0   \n",
       "\n",
       "  New_Price  \n",
       "0       NaN  \n",
       "1       NaN  "
      ]
     },
     "execution_count": 12,
     "metadata": {},
     "output_type": "execute_result"
    }
   ],
   "source": [
    "competition_test.head(2)"
   ]
  },
  {
   "cell_type": "markdown",
   "metadata": {},
   "source": [
    "#### Feature 'Age'"
   ]
  },
  {
   "cell_type": "code",
   "execution_count": 15,
   "metadata": {},
   "outputs": [
    {
     "data": {
      "text/plain": [
       "count    1234.000000\n",
       "mean        5.599676\n",
       "std         3.179700\n",
       "min         0.000000\n",
       "25%         3.000000\n",
       "50%         5.000000\n",
       "75%         8.000000\n",
       "max        23.000000\n",
       "Name: age, dtype: float64"
      ]
     },
     "execution_count": 15,
     "metadata": {},
     "output_type": "execute_result"
    }
   ],
   "source": [
    "competition_test['age'] = 2019 - competition_test['Year']\n",
    "competition_test.age.describe()"
   ]
  },
  {
   "cell_type": "markdown",
   "metadata": {},
   "source": [
    "#### Feature 'kms_driven'"
   ]
  },
  {
   "cell_type": "code",
   "execution_count": 17,
   "metadata": {},
   "outputs": [
    {
     "data": {
      "text/plain": [
       "count      1234.000000\n",
       "mean      58507.288493\n",
       "std       35598.702098\n",
       "min        1000.000000\n",
       "25%       34000.000000\n",
       "50%       54572.500000\n",
       "75%       75000.000000\n",
       "max      350000.000000\n",
       "Name: Kilometers_Driven, dtype: float64"
      ]
     },
     "execution_count": 17,
     "metadata": {},
     "output_type": "execute_result"
    }
   ],
   "source": [
    "competition_test.Kilometers_Driven.describe()"
   ]
  },
  {
   "cell_type": "code",
   "execution_count": 21,
   "metadata": {},
   "outputs": [
    {
     "name": "stdout",
     "output_type": "stream",
     "text": [
      "Highest 10 values in kms_driven are  [350000, 290000, 205000, 200000, 200000, 200000, 196000, 194500, 194000, 190000]\n"
     ]
    }
   ],
   "source": [
    "kms_list = list(competition_test.Kilometers_Driven.values)\n",
    "kms_list.sort(reverse = True)\n",
    "print('Highest 10 values in kms_driven are ',kms_list[:10])"
   ]
  },
  {
   "cell_type": "markdown",
   "metadata": {},
   "source": [
    "#### Feature 'Mileage'"
   ]
  },
  {
   "cell_type": "code",
   "execution_count": 22,
   "metadata": {},
   "outputs": [
    {
     "name": "stdout",
     "output_type": "stream",
     "text": [
      "Check Missing Values in Mileage Column  0\n"
     ]
    }
   ],
   "source": [
    "print(\"Check Missing Values in Mileage Column \",competition_test['Mileage'].isnull().sum())\n",
    "competition_test['Mileage'] = competition_test['Mileage'].fillna('0.0 kmpl')\n",
    "\n",
    "\n",
    "new = competition_test[\"Mileage\"].str.split(\" \", n = 1, expand = True)\n",
    "competition_test[\"mileage_amount\"]= new[0] \n",
    "# making separate last name column from new data frame \n",
    "competition_test[\"mileage_unit\"]= new[1] \n",
    "competition_test['mileage_amount'] = pd.to_numeric(competition_test['mileage_amount']) \n",
    "\n",
    "competition_test = competition_test.drop(['mileage_unit'],axis = 1)"
   ]
  },
  {
   "cell_type": "markdown",
   "metadata": {},
   "source": [
    "#### Feature 'Engine'"
   ]
  },
  {
   "cell_type": "code",
   "execution_count": 27,
   "metadata": {},
   "outputs": [
    {
     "name": "stdout",
     "output_type": "stream",
     "text": [
      "Check Missing Values in Engine Column  10\n",
      "Check Missing Values in Engine Column  0\n"
     ]
    }
   ],
   "source": [
    "print(\"Check Missing Values in Engine Column \",competition_test['Engine'].isnull().sum())\n",
    "competition_test['Engine'] = competition_test['Engine'].fillna('0 CC')\n",
    "\n",
    "\n",
    "new = competition_test[\"Engine\"].str.split(\" \", n = 1, expand = True)\n",
    "competition_test[\"engine_amount\"]= new[0] \n",
    "# making separate last name column from new data frame \n",
    "competition_test[\"engine_unit\"]= new[1] \n",
    "competition_test['engine_amount'] = pd.to_numeric(competition_test['engine_amount']) \n",
    "\n",
    "competition_test = competition_test.drop(['engine_unit'],axis = 1)\n",
    "\n",
    "#plt.figure(figsize = (15,7))\n",
    "#sns.scatterplot(x = 'engine_amount', y = 'log_price', data = df)\n",
    "print(\"Check Missing Values in Engine Column \",competition_test['Engine'].isnull().sum())"
   ]
  },
  {
   "cell_type": "markdown",
   "metadata": {},
   "source": [
    "#### Feature 'Power'"
   ]
  },
  {
   "cell_type": "code",
   "execution_count": 28,
   "metadata": {},
   "outputs": [
    {
     "name": "stdout",
     "output_type": "stream",
     "text": [
      "Check Missing Values in Power Column  10\n",
      "Check Missing Values in Power Column  0\n"
     ]
    }
   ],
   "source": [
    "print(\"Check Missing Values in Power Column \",competition_test['Power'].isnull().sum())\n",
    "competition_test['Power'] = competition_test['Power'].fillna('0 bhp')\n",
    "\n",
    "\n",
    "new = competition_test[\"Power\"].str.split(\" \", n = 1, expand = True)\n",
    "competition_test[\"power_amount\"]= new[0] \n",
    "competition_test[\"power_amount\"] = competition_test[\"power_amount\"].replace(['null'],0)\n",
    "# making separate last name column from new data frame \n",
    "competition_test[\"power_unit\"]= new[1] \n",
    "competition_test['power_amount'] = pd.to_numeric(competition_test['power_amount']) \n",
    "\n",
    "competition_test = competition_test.drop(['power_unit'],axis = 1)\n",
    "\n",
    "#plt.figure(figsize = (15,7))\n",
    "#sns.scatterplot(x = 'power_amount', y = 'log_price', data = df)\n",
    "print(\"Check Missing Values in Power Column \",competition_test['Power'].isnull().sum())"
   ]
  },
  {
   "cell_type": "markdown",
   "metadata": {},
   "source": [
    "#### Feature 'Seats'"
   ]
  },
  {
   "cell_type": "code",
   "execution_count": 37,
   "metadata": {},
   "outputs": [],
   "source": [
    "competition_test['Seats'] = competition_test['Seats'].fillna(0)\n",
    "competition_test['Seats_char'] = competition_test.Seats.astype(int).astype(str)"
   ]
  },
  {
   "cell_type": "code",
   "execution_count": 43,
   "metadata": {},
   "outputs": [
    {
     "data": {
      "text/plain": [
       "'5'"
      ]
     },
     "execution_count": 43,
     "metadata": {},
     "output_type": "execute_result"
    }
   ],
   "source": [
    "stats.mode(competition_test['Seats_char'][competition_test['Seats_char'] != '0'])[0][0]"
   ]
  },
  {
   "cell_type": "markdown",
   "metadata": {},
   "source": [
    "#### Missing Values 'Imputation'"
   ]
  },
  {
   "cell_type": "code",
   "execution_count": 50,
   "metadata": {},
   "outputs": [],
   "source": [
    "competition_test['mileage_amount'] = competition_test['mileage_amount'].replace(0,competition_test.mileage_amount.mean()) \n",
    "competition_test['engine_amount'] = competition_test['engine_amount'].replace(0,competition_test.engine_amount.mean()) \n",
    "competition_test['power_amount'] = competition_test['power_amount'].replace(0,competition_test.power_amount.mean()) \n",
    "competition_test['Seats_char'][competition_test['Seats_char'] == '0'] = '5' "
   ]
  },
  {
   "cell_type": "code",
   "execution_count": 52,
   "metadata": {},
   "outputs": [
    {
     "name": "stdout",
     "output_type": "stream",
     "text": [
      "rows haveing missing value of atleast 1 column (0, 17)\n"
     ]
    }
   ],
   "source": [
    "df_missing = competition_test[(competition_test.mileage_amount == 0) | \n",
    "                              (competition_test.engine_amount == 0) | \n",
    "                              (competition_test.power_amount == 0) | \n",
    "                              (competition_test.Seats == '0')]\n",
    "print('rows haveing missing value of atleast 1 column',df_missing.shape)"
   ]
  },
  {
   "cell_type": "markdown",
   "metadata": {},
   "source": [
    "#### Feature 'preprocessed_names'"
   ]
  },
  {
   "cell_type": "code",
   "execution_count": 53,
   "metadata": {},
   "outputs": [
    {
     "name": "stderr",
     "output_type": "stream",
     "text": [
      "100%|██████████| 1234/1234 [00:00<00:00, 64821.92it/s]\n"
     ]
    }
   ],
   "source": [
    "competition_test.Name = competition_test.Name.str.lower()\n",
    "#reference - www.appliedaicourse.com\n",
    "# https://stackoverflow.com/a/47091490/4084039\n",
    "def decontracted(phrase):\n",
    "    # specific\n",
    "    phrase = re.sub(r\"won't\", \"will not\", phrase)\n",
    "    phrase = re.sub(r\"can\\'t\", \"can not\", phrase)\n",
    "\n",
    "    # general\n",
    "    phrase = re.sub(r\"n\\'t\", \" not\", phrase)\n",
    "    phrase = re.sub(r\"\\'re\", \" are\", phrase)\n",
    "    phrase = re.sub(r\"\\'s\", \" is\", phrase)\n",
    "    phrase = re.sub(r\"\\'d\", \" would\", phrase)\n",
    "    phrase = re.sub(r\"\\'ll\", \" will\", phrase)\n",
    "    phrase = re.sub(r\"\\'t\", \" not\", phrase)\n",
    "    phrase = re.sub(r\"\\'ve\", \" have\", phrase)\n",
    "    phrase = re.sub(r\"\\'m\", \" am\", phrase)\n",
    "    return phrase\n",
    "\n",
    "# https://gist.github.com/sebleier/554280\n",
    "# we are removing the words from the stop words list: 'no', 'nor', 'not'\n",
    "stopwords_eng = set(stopwords.words('english'))\n",
    "\n",
    "preprocessed_names = []\n",
    "# tqdm is for printing the status bar\n",
    "for sentance in tqdm(competition_test['Name'].values):\n",
    "    sent = decontracted(sentance)\n",
    "    sent = sent.replace('\\\\r', ' ')\n",
    "    sent = sent.replace('\\\\\"', ' ')\n",
    "    sent = sent.replace('\\\\n', ' ')\n",
    "    sent = re.sub('[^A-Za-z0-9]+', ' ', sent)\n",
    "    # https://gist.github.com/sebleier/554280\n",
    "    sent = ' '.join(e for e in sent.split() if e not in stopwords_eng)\n",
    "    preprocessed_names.append(sent.lower().strip())\n",
    "    \n",
    "competition_test['preprocessed_names'] = preprocessed_names"
   ]
  },
  {
   "cell_type": "markdown",
   "metadata": {},
   "source": [
    "## 11.2  Creating Feature Set for 'Train' and 'Test' (Competition Dataset)"
   ]
  },
  {
   "cell_type": "code",
   "execution_count": 58,
   "metadata": {},
   "outputs": [],
   "source": [
    "competition_train = competition_train[['preprocessed_names',\n",
    "    'Location','Fuel_Type','Transmission','Owner_Type','Seats_imputation',\n",
    "             'Kilometers_Driven','engine_imputation','power_imputation','mileage_imputation','age',\n",
    "             'Price']]\n",
    "\n",
    "competition_test = competition_test[['preprocessed_names',\n",
    "    'Location','Fuel_Type','Transmission','Owner_Type','Seats_char',\n",
    "             'Kilometers_Driven','engine_amount','power_amount','mileage_amount','age']]"
   ]
  },
  {
   "cell_type": "markdown",
   "metadata": {},
   "source": [
    "##### Featurizing 'Names' - BOW"
   ]
  },
  {
   "cell_type": "code",
   "execution_count": 61,
   "metadata": {},
   "outputs": [
    {
     "name": "stdout",
     "output_type": "stream",
     "text": [
      "Shape of Train matrix after one hot encodig  (6011, 7338)\n",
      "Shape of Test matrix after one hot encodig  (1234, 7338)\n"
     ]
    }
   ],
   "source": [
    "vectorizer = CountVectorizer(ngram_range = (1,4))\n",
    "\n",
    "train_title_bow = vectorizer.fit_transform(competition_train.preprocessed_names.values)\n",
    "test_title_bow = vectorizer.transform(competition_test.preprocessed_names.values)\n",
    "\n",
    "print(\"Shape of Train matrix after one hot encodig \",train_title_bow.shape)\n",
    "print(\"Shape of Test matrix after one hot encodig \",test_title_bow.shape)"
   ]
  },
  {
   "cell_type": "markdown",
   "metadata": {},
   "source": [
    "##### Featurizing 'Location' - OHE"
   ]
  },
  {
   "cell_type": "code",
   "execution_count": 62,
   "metadata": {},
   "outputs": [
    {
     "name": "stdout",
     "output_type": "stream",
     "text": [
      "Shape of Train matrix after one hot encodig  (6011, 11)\n",
      "Shape of Test matrix after one hot encodig  (1234, 11)\n"
     ]
    }
   ],
   "source": [
    "#TRAIN DATA....\n",
    "vectorizer = CountVectorizer(vocabulary= list(competition_train['Location'].unique()), lowercase=False, binary=True)\n",
    "vectorizer.fit(competition_train['Location'].values)\n",
    "location_one_hot_features = vectorizer.get_feature_names()\n",
    "train_loc_one_hot = vectorizer.transform(competition_train['Location'].values)\n",
    "print(\"Shape of Train matrix after one hot encodig \",train_loc_one_hot.shape)\n",
    "\n",
    "\n",
    "#TEST DATA.....\n",
    "test_loc_one_hot = vectorizer.transform(competition_test['Location'].values)\n",
    "print(\"Shape of Test matrix after one hot encodig \",test_loc_one_hot.shape)"
   ]
  },
  {
   "cell_type": "markdown",
   "metadata": {},
   "source": [
    "##### Featurizing ''Fuel Type\" - OHE"
   ]
  },
  {
   "cell_type": "code",
   "execution_count": 63,
   "metadata": {},
   "outputs": [
    {
     "name": "stdout",
     "output_type": "stream",
     "text": [
      "Shape of Train matrix after one hot encodig  (6011, 5)\n",
      "Shape of Test matrix after one hot encodig  (1234, 5)\n"
     ]
    }
   ],
   "source": [
    "#TRAIN DATA....\n",
    "vectorizer = CountVectorizer(vocabulary= list(competition_train['Fuel_Type'].unique()), lowercase=False, binary=True)\n",
    "vectorizer.fit(competition_train['Fuel_Type'].values)\n",
    "fuel_one_hot_features = vectorizer.get_feature_names()\n",
    "train_fuel_one_hot = vectorizer.transform(competition_train['Fuel_Type'].values)\n",
    "print(\"Shape of Train matrix after one hot encodig \",train_fuel_one_hot.shape)\n",
    "\n",
    "\n",
    "#TEST DATA.....\n",
    "test_fuel_one_hot = vectorizer.transform(competition_test['Fuel_Type'].values)\n",
    "print(\"Shape of Test matrix after one hot encodig \",test_fuel_one_hot.shape)"
   ]
  },
  {
   "cell_type": "markdown",
   "metadata": {},
   "source": [
    "##### Featurizing ''Transmission\""
   ]
  },
  {
   "cell_type": "code",
   "execution_count": 64,
   "metadata": {},
   "outputs": [
    {
     "name": "stdout",
     "output_type": "stream",
     "text": [
      "Shape of Train matrix after one hot encodig  (6011, 2)\n",
      "Shape of Test matrix after one hot encodig  (1234, 2)\n"
     ]
    }
   ],
   "source": [
    "#TRAIN DATA....\n",
    "vectorizer = CountVectorizer(vocabulary= list(competition_train['Transmission'].unique()), lowercase=False, binary=True)\n",
    "vectorizer.fit(competition_train['Transmission'].values)\n",
    "transmission_one_hot_features = vectorizer.get_feature_names()\n",
    "train_transmission_one_hot = vectorizer.transform(competition_train['Transmission'].values)\n",
    "print(\"Shape of Train matrix after one hot encodig \",train_transmission_one_hot.shape)\n",
    "\n",
    "\n",
    "#TEST DATA.....\n",
    "test_transmission_one_hot = vectorizer.transform(competition_test['Transmission'].values)\n",
    "print(\"Shape of Test matrix after one hot encodig \",test_transmission_one_hot.shape)"
   ]
  },
  {
   "cell_type": "markdown",
   "metadata": {},
   "source": [
    "##### Featurizing ''Owner Type\""
   ]
  },
  {
   "cell_type": "code",
   "execution_count": 65,
   "metadata": {},
   "outputs": [
    {
     "name": "stdout",
     "output_type": "stream",
     "text": [
      "Shape of Train matrix after one hot encodig  (6011, 4)\n",
      "Shape of Test matrix after one hot encodig  (1234, 4)\n"
     ]
    }
   ],
   "source": [
    "#TRAIN DATA....\n",
    "vectorizer = CountVectorizer(vocabulary= list(competition_train['Owner_Type'].unique()), lowercase=False, binary=True)\n",
    "vectorizer.fit(competition_train['Owner_Type'].values)\n",
    "owner_one_hot_features = vectorizer.get_feature_names()\n",
    "train_owner_one_hot = vectorizer.transform(competition_train['Owner_Type'].values)\n",
    "print(\"Shape of Train matrix after one hot encodig \",train_owner_one_hot.shape)\n",
    "\n",
    "\n",
    "#TEST DATA.....\n",
    "test_owner_one_hot = vectorizer.transform(competition_test['Owner_Type'].values)\n",
    "print(\"Shape of Test matrix after one hot encodig \",test_owner_one_hot.shape)"
   ]
  },
  {
   "cell_type": "markdown",
   "metadata": {},
   "source": [
    "##### Featurizing ''Seats\""
   ]
  },
  {
   "cell_type": "code",
   "execution_count": 67,
   "metadata": {},
   "outputs": [
    {
     "name": "stdout",
     "output_type": "stream",
     "text": [
      "Shape of Train matrix after one hot encodig  (6011, 8)\n",
      "Shape of Test matrix after one hot encodig  (1234, 8)\n"
     ]
    }
   ],
   "source": [
    "#TRAIN DATA....\n",
    "vectorizer = CountVectorizer(vocabulary= list(competition_train['Seats_imputation'].unique()), lowercase=False, binary=True)\n",
    "vectorizer.fit(competition_train['Seats_imputation'].values)\n",
    "seats_one_hot_features = vectorizer.get_feature_names()\n",
    "train_seats_one_hot = vectorizer.transform(competition_train['Seats_imputation'].values)\n",
    "print(\"Shape of Train matrix after one hot encodig \",train_seats_one_hot.shape)\n",
    "\n",
    "\n",
    "#TEST DATA.....\n",
    "test_seats_one_hot = vectorizer.transform(competition_test['Seats_char'].values)\n",
    "print(\"Shape of Test matrix after one hot encodig \",test_seats_one_hot.shape)"
   ]
  },
  {
   "cell_type": "markdown",
   "metadata": {},
   "source": [
    "##### Featurizing ''kms_driven\""
   ]
  },
  {
   "cell_type": "code",
   "execution_count": 68,
   "metadata": {},
   "outputs": [
    {
     "name": "stdout",
     "output_type": "stream",
     "text": [
      "Mean : 57099.70237897189, Standard deviation : 33625.09186770184\n",
      "Mean : 58507.28849270665, Standard deviation : 35584.27506487185\n"
     ]
    }
   ],
   "source": [
    "#TRAIN DATA....\n",
    "\n",
    "train_kms_scalar = StandardScaler()\n",
    "train_kms_scalar.fit(competition_train['Kilometers_Driven'].values.reshape(-1,1)) # finding the mean and standard deviation of this data\n",
    "print(f\"Mean : {train_kms_scalar.mean_[0]}, Standard deviation : {np.sqrt(train_kms_scalar.var_[0])}\")\n",
    "train_kms_standardized = train_kms_scalar.transform(competition_train['Kilometers_Driven'].values.reshape(-1, 1))\n",
    "\n",
    "\n",
    "#TEST DATA....\n",
    "test_kms_scalar = StandardScaler()\n",
    "test_kms_scalar.fit(competition_test['Kilometers_Driven'].values.reshape(-1,1)) # finding the mean and standard deviation of this data\n",
    "print(f\"Mean : {test_kms_scalar.mean_[0]}, Standard deviation : {np.sqrt(test_kms_scalar.var_[0])}\")\n",
    "test_kms_standardized = test_kms_scalar.transform(competition_test['Kilometers_Driven'].values.reshape(-1, 1))"
   ]
  },
  {
   "cell_type": "markdown",
   "metadata": {},
   "source": [
    "##### Featurizing ''engine_imputation\""
   ]
  },
  {
   "cell_type": "code",
   "execution_count": 70,
   "metadata": {},
   "outputs": [
    {
     "name": "stdout",
     "output_type": "stream",
     "text": [
      "Mean : 1621.1337238493727, Standard deviation : 599.5498816457016\n",
      "Mean : 1593.4803159534422, Standard deviation : 561.8279593265466\n"
     ]
    }
   ],
   "source": [
    "#TRAIN DATA....\n",
    "\n",
    "train_engine_scalar = StandardScaler()\n",
    "train_engine_scalar.fit(competition_train['engine_imputation'].values.reshape(-1,1)) # finding the mean and standard deviation of this data\n",
    "print(f\"Mean : {train_engine_scalar.mean_[0]}, Standard deviation : {np.sqrt(train_engine_scalar.var_[0])}\")\n",
    "train_engine_standardized = train_engine_scalar.transform(competition_train['engine_imputation'].values.reshape(-1, 1))\n",
    "\n",
    "\n",
    "#TEST DATA....\n",
    "test_engine_scalar = StandardScaler()\n",
    "test_engine_scalar.fit(competition_test['engine_amount'].values.reshape(-1,1)) # finding the mean and standard deviation of this data\n",
    "print(f\"Mean : {test_engine_scalar.mean_[0]}, Standard deviation : {np.sqrt(test_engine_scalar.var_[0])}\")\n",
    "test_engine_standardized = test_engine_scalar.transform(competition_test['engine_amount'].values.reshape(-1, 1))"
   ]
  },
  {
   "cell_type": "markdown",
   "metadata": {},
   "source": [
    "##### Featurizing ''power_imputation\""
   ]
  },
  {
   "cell_type": "code",
   "execution_count": 71,
   "metadata": {},
   "outputs": [
    {
     "name": "stdout",
     "output_type": "stream",
     "text": [
      "Mean : 113.20596180864602, Standard deviation : 53.81244582518368\n",
      "Mean : 110.30619317211686, Standard deviation : 50.85198226954202\n"
     ]
    }
   ],
   "source": [
    "#TRAIN DATA....\n",
    "\n",
    "train_power_scalar = StandardScaler()\n",
    "train_power_scalar.fit(competition_train['power_imputation'].values.reshape(-1,1)) # finding the mean and standard deviation of this data\n",
    "print(f\"Mean : {train_power_scalar.mean_[0]}, Standard deviation : {np.sqrt(train_power_scalar.var_[0])}\")\n",
    "train_power_standardized = train_power_scalar.transform(competition_train['power_imputation'].values.reshape(-1, 1))\n",
    "\n",
    "\n",
    "#TEST DATA....\n",
    "test_power_scalar = StandardScaler()\n",
    "test_power_scalar.fit(competition_test['power_amount'].values.reshape(-1,1)) # finding the mean and standard deviation of this data\n",
    "print(f\"Mean : {test_power_scalar.mean_[0]}, Standard deviation : {np.sqrt(test_power_scalar.var_[0])}\")\n",
    "test_power_standardized = test_power_scalar.transform(competition_test['power_amount'].values.reshape(-1, 1))"
   ]
  },
  {
   "cell_type": "markdown",
   "metadata": {},
   "source": [
    "##### Featurizing ''mileage_imputation\""
   ]
  },
  {
   "cell_type": "code",
   "execution_count": 72,
   "metadata": {},
   "outputs": [
    {
     "name": "stdout",
     "output_type": "stream",
     "text": [
      "Mean : 18.326911587073138, Standard deviation : 4.161043556846434\n",
      "Mean : 18.3653161635876, Standard deviation : 4.049744650812627\n"
     ]
    }
   ],
   "source": [
    "#TRAIN DATA....\n",
    "\n",
    "train_mileage_scalar = StandardScaler()\n",
    "train_mileage_scalar.fit(competition_train['mileage_imputation'].values.reshape(-1,1)) # finding the mean and standard deviation of this data\n",
    "print(f\"Mean : {train_mileage_scalar.mean_[0]}, Standard deviation : {np.sqrt(train_mileage_scalar.var_[0])}\")\n",
    "train_mileage_standardized = train_mileage_scalar.transform(competition_train['mileage_imputation'].values.reshape(-1, 1))\n",
    "\n",
    "\n",
    "#TEST DATA....\n",
    "test_mileage_scalar = StandardScaler()\n",
    "test_mileage_scalar.fit(competition_test['mileage_amount'].values.reshape(-1,1)) # finding the mean and standard deviation of this data\n",
    "print(f\"Mean : {test_mileage_scalar.mean_[0]}, Standard deviation : {np.sqrt(test_mileage_scalar.var_[0])}\")\n",
    "test_mileage_standardized = test_mileage_scalar.transform(competition_test['mileage_amount'].values.reshape(-1, 1))"
   ]
  },
  {
   "cell_type": "markdown",
   "metadata": {},
   "source": [
    "##### Featurizing ''Age\""
   ]
  },
  {
   "cell_type": "code",
   "execution_count": 73,
   "metadata": {},
   "outputs": [
    {
     "name": "stdout",
     "output_type": "stream",
     "text": [
      "Mean : 5.641157877225087, Standard deviation : 3.2699479960774847\n",
      "Mean : 5.59967585089141, Standard deviation : 3.1784117658979216\n"
     ]
    }
   ],
   "source": [
    "#TRAIN DATA....\n",
    "\n",
    "train_age_scalar = StandardScaler()\n",
    "train_age_scalar.fit(competition_train['age'].values.reshape(-1,1)) # finding the mean and standard deviation of this data\n",
    "print(f\"Mean : {train_age_scalar.mean_[0]}, Standard deviation : {np.sqrt(train_age_scalar.var_[0])}\")\n",
    "train_age_standardized = train_age_scalar.transform(competition_train['age'].values.reshape(-1, 1))\n",
    "\n",
    "\n",
    "#TEST DATA....\n",
    "test_age_scalar = StandardScaler()\n",
    "test_age_scalar.fit(competition_test['age'].values.reshape(-1,1)) # finding the mean and standard deviation of this data\n",
    "print(f\"Mean : {test_age_scalar.mean_[0]}, Standard deviation : {np.sqrt(test_age_scalar.var_[0])}\")\n",
    "test_age_standardized = test_age_scalar.transform(competition_test['age'].values.reshape(-1, 1))"
   ]
  },
  {
   "cell_type": "markdown",
   "metadata": {},
   "source": [
    "##### Creating the concatenated 'Feature_stack'"
   ]
  },
  {
   "cell_type": "code",
   "execution_count": 76,
   "metadata": {},
   "outputs": [
    {
     "name": "stdout",
     "output_type": "stream",
     "text": [
      "X train shape (6011, 7373)\n",
      "y train shape (6011,)\n",
      "X test shape (1234, 7373)\n"
     ]
    }
   ],
   "source": [
    "X_train = sparse.hstack((\n",
    "                         train_title_bow, #0.97\n",
    "                         train_loc_one_hot, #0.25\n",
    "                         train_fuel_one_hot, #0.32\n",
    "                         train_transmission_one_hot, #0.59\n",
    "                         train_owner_one_hot, #0.1\n",
    "                         train_seats_one_hot, #0.31\n",
    "    \n",
    "    train_age_standardized, #0.3\n",
    "    train_kms_standardized, #0.18\n",
    "    train_mileage_standardized, #0.33\n",
    "    train_engine_standardized, #0.66\n",
    "    train_power_standardized #0.77\n",
    "                        ))\n",
    "#X_train = sparse.hstack([X_train,train[['age','mileage_amount','engine_amount','power_amount','log_kms','Seats']]])\n",
    "#X_train = X_train.toarray()\n",
    "print('X train shape',X_train.shape)\n",
    "\n",
    "y_train = np.array(competition_train['Price'])\n",
    "print('y train shape',y_train.shape)\n",
    "\n",
    "#######################################################################################\n",
    "\n",
    "X_test = sparse.hstack((\n",
    "                         test_title_bow,\n",
    "                         test_loc_one_hot,\n",
    "                         test_fuel_one_hot,\n",
    "                         test_transmission_one_hot,\n",
    "                         test_owner_one_hot,\n",
    "                         test_seats_one_hot,\n",
    "    \n",
    "                         test_age_standardized,\n",
    "                         test_kms_standardized,\n",
    "                         test_mileage_standardized,\n",
    "                         test_engine_standardized,\n",
    "                         test_power_standardized\n",
    "                        ))\n",
    "#X_train = sparse.hstack([X_train,train[['age','mileage_amount','engine_amount','power_amount','log_kms','Seats']]])\n",
    "#X_train = X_train.toarray()\n",
    "print('X test shape',X_test.shape)\n",
    "\n",
    "#y_test = np.array(df_test['Price'])\n",
    "#print('y test shape',y_test.shape)"
   ]
  },
  {
   "cell_type": "code",
   "execution_count": 77,
   "metadata": {},
   "outputs": [],
   "source": [
    "'''\n",
    "with open('competition_train_enhanced.pickle', 'wb') as f:\n",
    "    pickle.dump(X_train, f)\n",
    "\n",
    "with open('competition_test_enhanced.pickle', 'wb') as f:\n",
    "    pickle.dump(X_test, f)\n",
    "\n",
    "with open('competition_y_train_enhanced.pickle', 'wb') as f:\n",
    "    pickle.dump(y_train, f)\n",
    "'''\n",
    "\n",
    "\n",
    "#infile = open('df_enhanced.pickle','rb')\n",
    "#df = pickle.load(infile)\n",
    "#infile.close()"
   ]
  },
  {
   "cell_type": "markdown",
   "metadata": {},
   "source": [
    "# <a id = 'section12'>12. Train Model on Entire Competition Train Dataset</a>"
   ]
  },
  {
   "cell_type": "code",
   "execution_count": null,
   "metadata": {
    "scrolled": true
   },
   "outputs": [],
   "source": [
    "reg_model = XGBRegressor()\n",
    "\n",
    "parameters = {'max_depth' : [2,3,5,10],\n",
    "              'subsample' : [0.5,0.75,0.9,1],\n",
    "              'colsample_bytree' : [0.5,0.75,0.9,1],\n",
    "              'lambda' : [0.01,0.1,1,10,100],\n",
    "             'n_estimators' : [200]}\n",
    "\n",
    "gs_reg = GridSearchCV(reg_model, \n",
    "                      parameters,\n",
    "                      cv=2,\n",
    "                      verbose = 100, \n",
    "                      scoring  = rmse_scorer,\n",
    "                      n_jobs = -2)\n",
    "\n",
    "\n",
    "######################################################################\n",
    "gs_reg.fit(X_train, y_train)\n",
    "print(\"Best score \",-gs_reg.best_score_)\n",
    "print(\"Best params  \",gs_reg.best_params_)\n",
    "\n",
    "\n",
    "with open('1_enhanced_XGBreg.pickle', 'wb') as f:\n",
    "    pickle.dump(gs_reg, f)"
   ]
  },
  {
   "cell_type": "markdown",
   "metadata": {},
   "source": [
    "# <a id = 'section13'>13. Predict On Competition Test and Output the Submission File</a>"
   ]
  },
  {
   "cell_type": "code",
   "execution_count": 82,
   "metadata": {},
   "outputs": [],
   "source": [
    "my_model = gs_reg.best_estimator_\n",
    "y_competition_predicted = my_model.predict(X_test)\n",
    "y_competition_predicted = np.around(y_competition_predicted,decimals = 2)\n",
    "#print(\"Test RMSE is \",root_mean_squared_error(y_test, y_competition_predicted))"
   ]
  },
  {
   "cell_type": "code",
   "execution_count": 83,
   "metadata": {},
   "outputs": [],
   "source": [
    "submissions = pd.DataFrame({'Price' : y_competition_predicted})\n",
    "submissions.to_csv('competition_submission_enhanced_1.csv',index = False)"
   ]
  }
 ],
 "metadata": {
  "kernelspec": {
   "display_name": "Python 3",
   "language": "python",
   "name": "python3"
  },
  "language_info": {
   "codemirror_mode": {
    "name": "ipython",
    "version": 3
   },
   "file_extension": ".py",
   "mimetype": "text/x-python",
   "name": "python",
   "nbconvert_exporter": "python",
   "pygments_lexer": "ipython3",
   "version": "3.8.3"
  }
 },
 "nbformat": 4,
 "nbformat_minor": 2
}
